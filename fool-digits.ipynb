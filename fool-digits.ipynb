{
 "cells": [
  {
   "cell_type": "code",
   "execution_count": 1,
   "id": "19be1cc4-e373-477d-a7f3-5d0a37c4c889",
   "metadata": {},
   "outputs": [
    {
     "name": "stdout",
     "output_type": "stream",
     "text": [
      "Downloading train-images-idx3-ubyte.gz...\n",
      "Downloading train-labels-idx1-ubyte.gz...\n",
      "Downloading t10k-images-idx3-ubyte.gz...\n",
      "Downloading t10k-labels-idx1-ubyte.gz...\n"
     ]
    }
   ],
   "source": [
    "import os\n",
    "import urllib.request\n",
    "import gzip\n",
    "import numpy as np\n",
    "\n",
    "def download_and_parse_mnist(file_name, base_url):\n",
    "    file_path = file_name\n",
    "    if not os.path.exists(file_path):\n",
    "        print(f\"Downloading {file_name}...\")\n",
    "        urllib.request.urlretrieve(base_url + file_name, file_path)\n",
    "    \n",
    "    with gzip.open(file_path, 'rb') as f:\n",
    "        if \"images\" in file_name:\n",
    "            _ = int.from_bytes(f.read(4), 'big')  # magic number\n",
    "            num_images = int.from_bytes(f.read(4), 'big')\n",
    "            rows = int.from_bytes(f.read(4), 'big')\n",
    "            cols = int.from_bytes(f.read(4), 'big')\n",
    "            data = np.frombuffer(f.read(), dtype=np.uint8).reshape(num_images, rows, cols)\n",
    "        else:  # labels\n",
    "            _ = int.from_bytes(f.read(4), 'big')  # magic number\n",
    "            num_items = int.from_bytes(f.read(4), 'big')\n",
    "            data = np.frombuffer(f.read(), dtype=np.uint8)\n",
    "    return data\n",
    "\n",
    "# Load all parts\n",
    "base_url = \"https://storage.googleapis.com/cvdf-datasets/mnist/\"\n",
    "train_images = download_and_parse_mnist(\"train-images-idx3-ubyte.gz\", base_url)\n",
    "train_labels = download_and_parse_mnist(\"train-labels-idx1-ubyte.gz\", base_url)\n",
    "test_images = download_and_parse_mnist(\"t10k-images-idx3-ubyte.gz\", base_url)\n",
    "test_labels = download_and_parse_mnist(\"t10k-labels-idx1-ubyte.gz\", base_url)"
   ]
  },
  {
   "cell_type": "code",
   "execution_count": 2,
   "id": "b3ebf623-123a-4aa1-a465-65621f085549",
   "metadata": {},
   "outputs": [
    {
     "data": {
      "image/png": "[encoded data removed]",
      "text/plain": [
       "<Figure size 640x480 with 1 Axes>"
      ]
     },
     "metadata": {},
     "output_type": "display_data"
    }
   ],
   "source": [
    "import matplotlib.pyplot as plt\n",
    "\n",
    "plt.imshow(train_images[0], cmap='gray')\n",
    "plt.title(f\"Label: {train_labels[0]}\")\n",
    "plt.axis('off')\n",
    "plt.show()"
   ]
  },
  {
   "cell_type": "code",
   "execution_count": 4,
   "id": "8d71e9ff-6f75-4090-ab17-f1032d16231b",
   "metadata": {},
   "outputs": [
    {
     "name": "stdout",
     "output_type": "stream",
     "text": [
      "Defaulting to user installation because normal site-packages is not writeable\n",
      "Requirement already satisfied: tensorflow in /home/jafar/.local/lib/python3.12/site-packages (2.17.0)\n",
      "Requirement already satisfied: absl-py>=1.0.0 in /home/jafar/.local/lib/python3.12/site-packages (from tensorflow) (2.2.2)\n",
      "Requirement already satisfied: astunparse>=1.6.0 in /home/jafar/.local/lib/python3.12/site-packages (from tensorflow) (1.6.3)\n",
      "Requirement already satisfied: flatbuffers>=24.3.25 in /home/jafar/.local/lib/python3.12/site-packages (from tensorflow) (25.2.10)\n",
      "Requirement already satisfied: gast!=0.5.0,!=0.5.1,!=0.5.2,>=0.2.1 in /home/jafar/.local/lib/python3.12/site-packages (from tensorflow) (0.6.0)\n",
      "Requirement already satisfied: google-pasta>=0.1.1 in /home/jafar/.local/lib/python3.12/site-packages (from tensorflow) (0.2.0)\n",
      "Requirement already satisfied: h5py>=3.10.0 in /home/jafar/.local/lib/python3.12/site-packages (from tensorflow) (3.13.0)\n",
      "Requirement already satisfied: libclang>=13.0.0 in /home/jafar/.local/lib/python3.12/site-packages (from tensorflow) (18.1.1)\n",
      "Requirement already satisfied: ml-dtypes<0.5.0,>=0.3.1 in /home/jafar/.local/lib/python3.12/site-packages (from tensorflow) (0.4.1)\n",
      "Requirement already satisfied: opt-einsum>=2.3.2 in /home/jafar/.local/lib/python3.12/site-packages (from tensorflow) (3.4.0)\n",
      "Requirement already satisfied: packaging in /usr/lib/python3.12/site-packages (from tensorflow) (23.2)\n",
      "Requirement already satisfied: protobuf!=4.21.0,!=4.21.1,!=4.21.2,!=4.21.3,!=4.21.4,!=4.21.5,<5.0.0dev,>=3.20.3 in /home/jafar/.local/lib/python3.12/site-packages (from tensorflow) (4.25.7)\n",
      "Requirement already satisfied: requests<3,>=2.21.0 in /home/jafar/.local/lib/python3.12/site-packages (from tensorflow) (2.32.3)\n",
      "Requirement already satisfied: setuptools in /usr/lib/python3.12/site-packages (from tensorflow) (69.0.3)\n",
      "Requirement already satisfied: six>=1.12.0 in /usr/lib/python3.12/site-packages (from tensorflow) (1.16.0)\n",
      "Requirement already satisfied: termcolor>=1.1.0 in /home/jafar/.local/lib/python3.12/site-packages (from tensorflow) (3.1.0)\n",
      "Requirement already satisfied: typing-extensions>=3.6.6 in /home/jafar/.local/lib/python3.12/site-packages (from tensorflow) (4.12.2)\n",
      "Requirement already satisfied: wrapt>=1.11.0 in /home/jafar/.local/lib/python3.12/site-packages (from tensorflow) (1.17.2)\n",
      "Requirement already satisfied: grpcio<2.0,>=1.24.3 in /usr/lib64/python3.12/site-packages (from tensorflow) (1.48.4)\n",
      "Requirement already satisfied: tensorboard<2.18,>=2.17 in /home/jafar/.local/lib/python3.12/site-packages (from tensorflow) (2.17.1)\n",
      "Requirement already satisfied: keras>=3.2.0 in /home/jafar/.local/lib/python3.12/site-packages (from tensorflow) (3.10.0)\n",
      "Requirement already satisfied: numpy<2.0.0,>=1.26.0 in /home/jafar/.local/lib/python3.12/site-packages (from tensorflow) (1.26.0)\n",
      "Requirement already satisfied: wheel<1.0,>=0.23.0 in /home/jafar/.local/lib/python3.12/site-packages (from astunparse>=1.6.0->tensorflow) (0.45.1)\n",
      "Requirement already satisfied: rich in /home/jafar/.local/lib/python3.12/site-packages (from keras>=3.2.0->tensorflow) (13.9.4)\n",
      "Requirement already satisfied: namex in /home/jafar/.local/lib/python3.12/site-packages (from keras>=3.2.0->tensorflow) (0.0.9)\n",
      "Requirement already satisfied: optree in /home/jafar/.local/lib/python3.12/site-packages (from keras>=3.2.0->tensorflow) (0.15.0)\n",
      "Requirement already satisfied: charset-normalizer<4,>=2 in /usr/lib/python3.12/site-packages (from requests<3,>=2.21.0->tensorflow) (3.3.2)\n",
      "Requirement already satisfied: idna<4,>=2.5 in /home/jafar/.local/lib/python3.12/site-packages (from requests<3,>=2.21.0->tensorflow) (2.10)\n",
      "Requirement already satisfied: urllib3<3,>=1.21.1 in /usr/lib/python3.12/site-packages (from requests<3,>=2.21.0->tensorflow) (1.26.20)\n",
      "Requirement already satisfied: certifi>=2017.4.17 in /home/jafar/.local/lib/python3.12/site-packages (from requests<3,>=2.21.0->tensorflow) (2024.2.2)\n",
      "Requirement already satisfied: markdown>=2.6.8 in /usr/lib/python3.12/site-packages (from tensorboard<2.18,>=2.17->tensorflow) (3.5.2)\n",
      "Requirement already satisfied: tensorboard-data-server<0.8.0,>=0.7.0 in /home/jafar/.local/lib/python3.12/site-packages (from tensorboard<2.18,>=2.17->tensorflow) (0.7.2)\n",
      "Requirement already satisfied: werkzeug>=1.0.1 in /home/jafar/.local/lib/python3.12/site-packages (from tensorboard<2.18,>=2.17->tensorflow) (3.0.2)\n",
      "Requirement already satisfied: MarkupSafe>=2.1.1 in /usr/lib64/python3.12/site-packages (from werkzeug>=1.0.1->tensorboard<2.18,>=2.17->tensorflow) (2.1.3)\n",
      "Requirement already satisfied: markdown-it-py>=2.2.0 in /home/jafar/.local/lib/python3.12/site-packages (from rich->keras>=3.2.0->tensorflow) (3.0.0)\n",
      "Requirement already satisfied: pygments<3.0.0,>=2.13.0 in /usr/lib/python3.12/site-packages (from rich->keras>=3.2.0->tensorflow) (2.17.2)\n",
      "Requirement already satisfied: mdurl~=0.1 in /home/jafar/.local/lib/python3.12/site-packages (from markdown-it-py>=2.2.0->rich->keras>=3.2.0->tensorflow) (0.1.2)\n",
      "\n",
      "\u001b[1m[\u001b[0m\u001b[34;49mnotice\u001b[0m\u001b[1;39;49m]\u001b[0m\u001b[39;49m A new release of pip is available: \u001b[0m\u001b[31;49m25.0.1\u001b[0m\u001b[39;49m -> \u001b[0m\u001b[32;49m25.1.1\u001b[0m\n",
      "\u001b[1m[\u001b[0m\u001b[34;49mnotice\u001b[0m\u001b[1;39;49m]\u001b[0m\u001b[39;49m To update, run: \u001b[0m\u001b[32;49mpython -m pip install --upgrade pip\u001b[0m\n"
     ]
    }
   ],
   "source": [
    "!pip install tensorflow"
   ]
  },
  {
   "cell_type": "code",
   "execution_count": 6,
   "id": "ebdba314-f1cc-4f7c-95ef-1823e3316ee2",
   "metadata": {},
   "outputs": [
    {
     "name": "stdout",
     "output_type": "stream",
     "text": [
      "Epoch 1/10\n"
     ]
    },
    {
     "name": "stderr",
     "output_type": "stream",
     "text": [
      "2025-05-27 17:56:23.533433: W external/local_tsl/tsl/framework/cpu_allocator_impl.cc:83] Allocation of 188160000 exceeds 10% of free system memory.\n"
     ]
    },
    {
     "name": "stdout",
     "output_type": "stream",
     "text": [
      "\u001b[1m469/469\u001b[0m \u001b[32m━━━━━━━━━━━━━━━━━━━━\u001b[0m\u001b[37m\u001b[0m \u001b[1m0s\u001b[0m 95ms/step - accuracy: 0.7701 - loss: 0.7053"
     ]
    },
    {
     "name": "stderr",
     "output_type": "stream",
     "text": [
      "2025-05-27 17:57:10.174366: W external/local_tsl/tsl/framework/cpu_allocator_impl.cc:83] Allocation of 31360000 exceeds 10% of free system memory.\n"
     ]
    },
    {
     "name": "stdout",
     "output_type": "stream",
     "text": [
      "\u001b[1m469/469\u001b[0m \u001b[32m━━━━━━━━━━━━━━━━━━━━\u001b[0m\u001b[37m\u001b[0m \u001b[1m48s\u001b[0m 99ms/step - accuracy: 0.7704 - loss: 0.7046 - val_accuracy: 0.9777 - val_loss: 0.0673\n",
      "Epoch 2/10\n",
      "\u001b[1m469/469\u001b[0m \u001b[32m━━━━━━━━━━━━━━━━━━━━\u001b[0m\u001b[37m\u001b[0m \u001b[1m45s\u001b[0m 96ms/step - accuracy: 0.9607 - loss: 0.1295 - val_accuracy: 0.9849 - val_loss: 0.0455\n",
      "Epoch 3/10\n",
      "\u001b[1m469/469\u001b[0m \u001b[32m━━━━━━━━━━━━━━━━━━━━\u001b[0m\u001b[37m\u001b[0m \u001b[1m48s\u001b[0m 102ms/step - accuracy: 0.9704 - loss: 0.0969 - val_accuracy: 0.9862 - val_loss: 0.0388\n",
      "Epoch 4/10\n",
      "\u001b[1m469/469\u001b[0m \u001b[32m━━━━━━━━━━━━━━━━━━━━\u001b[0m\u001b[37m\u001b[0m \u001b[1m51s\u001b[0m 108ms/step - accuracy: 0.9770 - loss: 0.0766 - val_accuracy: 0.9870 - val_loss: 0.0354\n",
      "Epoch 5/10\n",
      "\u001b[1m469/469\u001b[0m \u001b[32m━━━━━━━━━━━━━━━━━━━━\u001b[0m\u001b[37m\u001b[0m \u001b[1m48s\u001b[0m 103ms/step - accuracy: 0.9784 - loss: 0.0663 - val_accuracy: 0.9907 - val_loss: 0.0265\n",
      "Epoch 6/10\n",
      "\u001b[1m469/469\u001b[0m \u001b[32m━━━━━━━━━━━━━━━━━━━━\u001b[0m\u001b[37m\u001b[0m \u001b[1m55s\u001b[0m 118ms/step - accuracy: 0.9818 - loss: 0.0585 - val_accuracy: 0.9902 - val_loss: 0.0278\n",
      "Epoch 7/10\n",
      "\u001b[1m469/469\u001b[0m \u001b[32m━━━━━━━━━━━━━━━━━━━━\u001b[0m\u001b[37m\u001b[0m \u001b[1m80s\u001b[0m 113ms/step - accuracy: 0.9842 - loss: 0.0541 - val_accuracy: 0.9920 - val_loss: 0.0244\n",
      "Epoch 8/10\n",
      "\u001b[1m469/469\u001b[0m \u001b[32m━━━━━━━━━━━━━━━━━━━━\u001b[0m\u001b[37m\u001b[0m \u001b[1m44s\u001b[0m 93ms/step - accuracy: 0.9848 - loss: 0.0500 - val_accuracy: 0.9911 - val_loss: 0.0250\n",
      "Epoch 9/10\n",
      "\u001b[1m469/469\u001b[0m \u001b[32m━━━━━━━━━━━━━━━━━━━━\u001b[0m\u001b[37m\u001b[0m \u001b[1m42s\u001b[0m 89ms/step - accuracy: 0.9861 - loss: 0.0475 - val_accuracy: 0.9912 - val_loss: 0.0246\n",
      "Epoch 10/10\n",
      "\u001b[1m469/469\u001b[0m \u001b[32m━━━━━━━━━━━━━━━━━━━━\u001b[0m\u001b[37m\u001b[0m \u001b[1m45s\u001b[0m 97ms/step - accuracy: 0.9864 - loss: 0.0432 - val_accuracy: 0.9921 - val_loss: 0.0253\n"
     ]
    },
    {
     "data": {
      "text/plain": [
       "<keras.src.callbacks.history.History at 0x7f09dc6256a0>"
      ]
     },
     "execution_count": 6,
     "metadata": {},
     "output_type": "execute_result"
    }
   ],
   "source": [
    "import numpy as np\n",
    "from tensorflow.keras.datasets import mnist\n",
    "from tensorflow.keras.utils import to_categorical\n",
    "from tensorflow.keras.models import Sequential\n",
    "from tensorflow.keras.layers import Conv2D, MaxPooling2D, Flatten, Dense, Dropout, Input\n",
    "from tensorflow.keras.optimizers import Adam\n",
    "\n",
    "# Load and preprocess data\n",
    "(x_train, y_train), (x_test, y_test) = mnist.load_data()\n",
    "\n",
    "# Reshape and normalize\n",
    "x_train = x_train.reshape(-1, 28, 28, 1).astype(\"float32\") / 255.0\n",
    "x_test = x_test.reshape(-1, 28, 28, 1).astype(\"float32\") / 255.0\n",
    "\n",
    "# One-hot encode labels\n",
    "y_train_cat = to_categorical(y_train, 10)\n",
    "y_test_cat = to_categorical(y_test, 10)\n",
    "\n",
    "# Build CNN model\n",
    "model = Sequential([\n",
    "    Input(shape=(28, 28, 1)),\n",
    "    Conv2D(32, kernel_size=(3,3), activation='relu'),\n",
    "    MaxPooling2D(pool_size=(2,2)),\n",
    "    Dropout(0.25),\n",
    "    \n",
    "    Conv2D(64, kernel_size=(3,3), activation='relu'),\n",
    "    MaxPooling2D(pool_size=(2,2)),\n",
    "    Dropout(0.25),\n",
    "    \n",
    "    Flatten(),\n",
    "    Dense(128, activation='relu'),\n",
    "    Dropout(0.5),\n",
    "    Dense(10, activation='softmax')\n",
    "])\n",
    "\n",
    "# Compile model\n",
    "model.compile(optimizer=Adam(), loss='categorical_crossentropy', metrics=['accuracy'])\n",
    "\n",
    "# Train model\n",
    "model.fit(x_train, y_train_cat, batch_size=128, epochs=10, validation_data=(x_test, y_test_cat))\n"
   ]
  },
  {
   "cell_type": "code",
   "execution_count": 7,
   "id": "2d082ee5-0da6-4f78-b846-70e122462151",
   "metadata": {},
   "outputs": [
    {
     "name": "stderr",
     "output_type": "stream",
     "text": [
      "2025-05-27 18:05:29.561079: W external/local_tsl/tsl/framework/cpu_allocator_impl.cc:83] Allocation of 31360000 exceeds 10% of free system memory.\n"
     ]
    },
    {
     "name": "stdout",
     "output_type": "stream",
     "text": [
      "Test accuracy: 0.9921\n"
     ]
    }
   ],
   "source": [
    "score = model.evaluate(x_test, y_test_cat, verbose=0)\n",
    "print(f\"Test accuracy: {score[1]:.4f}\")\n"
   ]
  },
  {
   "cell_type": "code",
   "execution_count": 15,
   "id": "e1245beb-7c2e-41ff-a6c4-1e2d5e20613e",
   "metadata": {},
   "outputs": [],
   "source": [
    "latent_dim = 100\n",
    "num_classes = 10\n",
    "\n",
    "from tensorflow.keras.layers import Concatenate\n",
    "\n",
    "# Generator Input: noise + one-hot label\n",
    "z_input = Input(shape=(latent_dim,))\n",
    "label_input = Input(shape=(num_classes,))\n",
    "\n",
    "combined_input = Concatenate()([z_input, label_input])"
   ]
  },
  {
   "cell_type": "code",
   "execution_count": 17,
   "id": "323a940e-a5d5-4010-9ea2-49ddf9d74a59",
   "metadata": {},
   "outputs": [],
   "source": [
    "from tensorflow.keras.layers import Dense, Reshape, BatchNormalization, LeakyReLU, Conv2DTranspose\n",
    "\n",
    "def build_conditional_generator():\n",
    "    input_combined = Input(shape=(latent_dim + num_classes,))\n",
    "    \n",
    "    x = Dense(256)(input_combined)\n",
    "    x = LeakyReLU()(x)\n",
    "    x = BatchNormalization()(x)\n",
    "\n",
    "    x = Dense(7*7*128)(x)\n",
    "    x = LeakyReLU()(x)\n",
    "    x = BatchNormalization()(x)\n",
    "    \n",
    "    x = Reshape((7, 7, 128))(x)\n",
    "    \n",
    "    x = Conv2DTranspose(64, kernel_size=4, strides=2, padding='same', activation='relu')(x)\n",
    "    x = BatchNormalization()(x)\n",
    "    \n",
    "    x = Conv2DTranspose(1, kernel_size=4, strides=2, padding='same', activation='sigmoid')(x)\n",
    "    \n",
    "    return Model(input_combined, x)\n",
    "\n",
    "generator = build_conditional_generator()"
   ]
  },
  {
   "cell_type": "code",
   "execution_count": 18,
   "id": "1ebb7b17-b5dc-4b92-82c7-337be6b84855",
   "metadata": {},
   "outputs": [],
   "source": [
    "model.trainable = False"
   ]
  },
  {
   "cell_type": "code",
   "execution_count": 19,
   "id": "2ddf6413-8f72-4bba-8236-8b1500904016",
   "metadata": {},
   "outputs": [],
   "source": [
    "gen_input_z = Input(shape=(latent_dim,))\n",
    "gen_input_label = Input(shape=(num_classes,))\n",
    "gen_input_combined = Concatenate()([gen_input_z, gen_input_label])\n",
    "\n",
    "gen_output_img = generator(gen_input_combined)\n",
    "classifier_output = model(gen_output_img)\n",
    "\n",
    "cgan = Model([gen_input_z, gen_input_label], classifier_output)\n",
    "cgan.compile(optimizer=Adam(1e-4), loss='categorical_crossentropy')\n"
   ]
  },
  {
   "cell_type": "code",
   "execution_count": 20,
   "id": "2a290ff7-cb3a-4db9-9e6d-77828cf6867e",
   "metadata": {
    "scrolled": true
   },
   "outputs": [
    {
     "name": "stdout",
     "output_type": "stream",
     "text": [
      "Epoch 0 | Loss: 2.7241\n",
      "Epoch 500 | Loss: 2.1341\n",
      "Epoch 1000 | Loss: 1.3942\n",
      "Epoch 1500 | Loss: 0.9716\n",
      "Epoch 2000 | Loss: 0.7407\n",
      "Epoch 2500 | Loss: 0.5989\n",
      "Epoch 3000 | Loss: 0.5030\n",
      "Epoch 3500 | Loss: 0.4334\n",
      "Epoch 4000 | Loss: 0.3809\n",
      "Epoch 4500 | Loss: 0.3403\n",
      "Epoch 5000 | Loss: 0.3075\n",
      "Epoch 5500 | Loss: 0.2801\n",
      "Epoch 6000 | Loss: 0.2576\n",
      "Epoch 6500 | Loss: 0.2384\n",
      "Epoch 7000 | Loss: 0.2219\n",
      "Epoch 7500 | Loss: 0.2075\n",
      "Epoch 8000 | Loss: 0.1949\n",
      "Epoch 8500 | Loss: 0.1837\n",
      "Epoch 9000 | Loss: 0.1738\n",
      "Epoch 9500 | Loss: 0.1648\n"
     ]
    }
   ],
   "source": [
    "import numpy as np\n",
    "from tensorflow.keras.utils import to_categorical\n",
    "\n",
    "for epoch in range(10000):\n",
    "    # Sample random noise and labels\n",
    "    z = np.random.normal(0, 1, (32, latent_dim))\n",
    "    labels = np.random.randint(0, 10, 32)\n",
    "    labels_onehot = to_categorical(labels, 10)\n",
    "\n",
    "    # Train: generator tries to make classifier output correct digit\n",
    "    loss = cgan.train_on_batch([z, labels_onehot], labels_onehot)\n",
    "\n",
    "    if epoch % 500 == 0:\n",
    "        print(f\"Epoch {epoch} | Loss: {loss:.4f}\")\n"
   ]
  },
  {
   "cell_type": "code",
   "execution_count": 25,
   "id": "dd65ec24-f3c2-4dfc-96fe-3e260add3fd8",
   "metadata": {},
   "outputs": [
    {
     "name": "stdout",
     "output_type": "stream",
     "text": [
      "\u001b[1m1/1\u001b[0m \u001b[32m━━━━━━━━━━━━━━━━━━━━\u001b[0m\u001b[37m\u001b[0m \u001b[1m0s\u001b[0m 87ms/step\n"
     ]
    },
    {
     "data": {
      "image/png": "[encoded data removed]",
      "text/plain": [
       "<Figure size 1200x200 with 10 Axes>"
      ]
     },
     "metadata": {},
     "output_type": "display_data"
    }
   ],
   "source": [
    "z = np.random.normal(0, 1, (10, latent_dim))\n",
    "labels = np.arange(10)\n",
    "labels_onehot = to_categorical(labels, 10)\n",
    "\n",
    "generated_imgs = generator.predict(np.concatenate([z, labels_onehot], axis=1))\n",
    "\n",
    "import matplotlib.pyplot as plt\n",
    "\n",
    "plt.figure(figsize=(12, 2))\n",
    "for i in range(10):\n",
    "    plt.subplot(1, 10, i+1)\n",
    "    plt.imshow(generated_imgs[i].squeeze(), cmap='gray')\n",
    "    plt.title(f\"{i}\")\n",
    "    plt.axis('off')\n",
    "plt.tight_layout()\n",
    "plt.show()"
   ]
  },
  {
   "cell_type": "code",
   "execution_count": 26,
   "id": "bc536e43-6c5f-44fc-a944-818ef8833bf6",
   "metadata": {
    "scrolled": true
   },
   "outputs": [
    {
     "name": "stdout",
     "output_type": "stream",
     "text": [
      "\u001b[1m32/32\u001b[0m \u001b[32m━━━━━━━━━━━━━━━━━━━━\u001b[0m\u001b[37m\u001b[0m \u001b[1m1s\u001b[0m 18ms/step\n",
      "\u001b[1m32/32\u001b[0m \u001b[32m━━━━━━━━━━━━━━━━━━━━\u001b[0m\u001b[37m\u001b[0m \u001b[1m0s\u001b[0m 9ms/step\n",
      "Generator fooling accuracy (classifier agrees with intended label): 1.0000\n"
     ]
    }
   ],
   "source": [
    "import numpy as np\n",
    "from tensorflow.keras.utils import to_categorical\n",
    "\n",
    "# Generate a test batch of digits\n",
    "latent_dim = 100\n",
    "num_classes = 10\n",
    "n = 1000  # number of samples\n",
    "\n",
    "# Random noise + known labels\n",
    "z = np.random.normal(0, 1, (n, latent_dim))\n",
    "true_labels = np.random.randint(0, num_classes, n)\n",
    "true_labels_onehot = to_categorical(true_labels, num_classes)\n",
    "\n",
    "# Generate fake images\n",
    "gen_input = np.concatenate([z, true_labels_onehot], axis=1)\n",
    "fake_images = generator.predict(gen_input)\n",
    "\n",
    "# Pass fake images into the frozen classifier\n",
    "predictions = model.predict(fake_images)\n",
    "predicted_labels = np.argmax(predictions, axis=1)\n",
    "\n",
    "# Compare with the conditioned label\n",
    "accuracy = np.mean(predicted_labels == true_labels)\n",
    "print(f\"Generator fooling accuracy (classifier agrees with intended label): {accuracy:.4f}\")\n"
   ]
  },
  {
   "cell_type": "code",
   "execution_count": null,
   "id": "220bc7dd-3881-4914-a00a-ba20429e5b8a",
   "metadata": {},
   "outputs": [],
   "source": []
  }
 ],
 "metadata": {
  "kernelspec": {
   "display_name": "Python 3 (ipykernel)",
   "language": "python",
   "name": "python3"
  },
  "language_info": {
   "codemirror_mode": {
    "name": "ipython",
    "version": 3
   },
   "file_extension": ".py",
   "mimetype": "text/x-python",
   "name": "python",
   "nbconvert_exporter": "python",
   "pygments_lexer": "ipython3",
   "version": "3.12.9"
  }
 },
 "nbformat": 4,
 "nbformat_minor": 5
}
